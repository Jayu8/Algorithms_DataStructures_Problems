{
 "cells": [
  {
   "cell_type": "markdown",
   "metadata": {},
   "source": [
    "To read a matrix into an a list [Link](https://gist.github.com/fyears/4161739)<br>\n",
    "Usage from console:<br>\n",
    "1) cat ../9_Misc/Inputs/matrix.txt | python Read_from_Console.py<br>\n",
    "2) echo \"Your Text or Cat the file whatever\" | python Read_from_Console.py<br>"
   ]
  },
  {
   "cell_type": "code",
   "execution_count": 6,
   "metadata": {},
   "outputs": [
    {
     "name": "stdout",
     "output_type": "stream",
     "text": [
      "Writing Read_from_Console.py\n"
     ]
    }
   ],
   "source": [
    "%%writefile Read_from_Console.py\n",
    "import sys\n",
    "\n",
    "\n",
    "def read_in():\n",
    "    return [x.strip().split() for x in sys.stdin.readlines()]\n",
    "\n",
    "\n",
    "def main():\n",
    "    lines = read_in()\n",
    "    print(lines)\n",
    "\n",
    "\n",
    "if __name__ == '__main__':\n",
    "    main()"
   ]
  },
  {
   "cell_type": "code",
   "execution_count": 65,
   "metadata": {},
   "outputs": [
    {
     "name": "stdout",
     "output_type": "stream",
     "text": [
      "[]\n"
     ]
    }
   ],
   "source": [
    "% run Read_from_Console.py "
   ]
  },
  {
   "cell_type": "markdown",
   "metadata": {},
   "source": [
    "Input: <br>\n",
    "1 2 3 4 <br>\n",
    "5 6 7 8 <br>\n",
    "Output:<br>\n",
    "[['1', '2', '3', '4'], ['5', '6', '7', '8']]<br>\n",
    "Explanation:<br>\n",
    "The strip() takes '\\n' and split takes ' ' as default<br>\n",
    "To print indivisual outputs<br>\n",
    "```\n",
    "lines [0][0] = 1\n",
    "lines [1][0] = 5\n",
    "```"
   ]
  }
 ],
 "metadata": {
  "kernelspec": {
   "display_name": "Python 3",
   "language": "python",
   "name": "python3"
  },
  "language_info": {
   "codemirror_mode": {
    "name": "ipython",
    "version": 3
   },
   "file_extension": ".py",
   "mimetype": "text/x-python",
   "name": "python",
   "nbconvert_exporter": "python",
   "pygments_lexer": "ipython3",
   "version": "3.6.3"
  }
 },
 "nbformat": 4,
 "nbformat_minor": 2
}
