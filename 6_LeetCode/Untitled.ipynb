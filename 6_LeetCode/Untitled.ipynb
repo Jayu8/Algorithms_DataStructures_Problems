{
 "cells": [
  {
   "cell_type": "code",
   "execution_count": 18,
   "metadata": {},
   "outputs": [],
   "source": [
    "class Solution(object):\n",
    "    def nextClosestTime(self,time):\n",
    "        s = set(time)\n",
    "        hour = int(time[0:2])\n",
    "        minute = int(time[3:5])\n",
    "        while True:\n",
    "            minute +=1\n",
    "            if minute == 60:\n",
    "                minute = 0\n",
    "                hour = 0 if hour == 23 else hour +1\n",
    "                time = \"%02d:%02d\" %(hour,minute)\n",
    "                if set(time) <= s:\n",
    "                    return time\n",
    "                return time"
   ]
  },
  {
   "cell_type": "code",
   "execution_count": 20,
   "metadata": {},
   "outputs": [
    {
     "data": {
      "text/plain": [
       "'00:00'"
      ]
     },
     "execution_count": 20,
     "metadata": {},
     "output_type": "execute_result"
    }
   ],
   "source": [
    "sol = Solution()\n",
    "val = sol.nextClosestTime(\"23 :59\")\n",
    "val"
   ]
  },
  {
   "cell_type": "code",
   "execution_count": 21,
   "metadata": {},
   "outputs": [],
   "source": [
    "class Solution(object):\n",
    "    def nextClosestTime(self,time):\n",
    "        s = set(time)\n",
    "        hour = int(time[0:2])\n",
    "        minute = int(time[3:5])\n",
    "        while True:\n",
    "                time = \"%02d:%02d\" %(hour,minute)\n",
    "                if set(time) <= s:\n",
    "                    return time\n",
    "                return time"
   ]
  },
  {
   "cell_type": "code",
   "execution_count": 91,
   "metadata": {},
   "outputs": [
    {
     "data": {
      "text/plain": [
       "{'1', '2', '3', '4'}"
      ]
     },
     "execution_count": 91,
     "metadata": {},
     "output_type": "execute_result"
    }
   ],
   "source": [
    "string = '12:34'.replace(':','')\n",
    "set(string)\n",
    "\n"
   ]
  },
  {
   "cell_type": "code",
   "execution_count": 60,
   "metadata": {},
   "outputs": [
    {
     "name": "stdout",
     "output_type": "stream",
     "text": [
      "this is string example....wow!!!\n"
     ]
    }
   ],
   "source": [
    "str = \"0000000this is string example....wow!!!0000000\";\n",
    "print (str.strip( '0' ))"
   ]
  }
 ],
 "metadata": {
  "kernelspec": {
   "display_name": "Python 3",
   "language": "python",
   "name": "python3"
  },
  "language_info": {
   "codemirror_mode": {
    "name": "ipython",
    "version": 3
   },
   "file_extension": ".py",
   "mimetype": "text/x-python",
   "name": "python",
   "nbconvert_exporter": "python",
   "pygments_lexer": "ipython3",
   "version": "3.6.3"
  }
 },
 "nbformat": 4,
 "nbformat_minor": 2
}
